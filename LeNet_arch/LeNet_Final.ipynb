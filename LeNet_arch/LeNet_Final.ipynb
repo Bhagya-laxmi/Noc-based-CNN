{
  "nbformat": 4,
  "nbformat_minor": 0,
  "metadata": {
    "colab": {
      "name": "LeNet_Final.ipynb",
      "provenance": [],
      "collapsed_sections": [],
      "toc_visible": true,
      "authorship_tag": "ABX9TyNYBLuUoYEIMJSR3GFgSPIJ",
      "include_colab_link": true
    },
    "kernelspec": {
      "name": "python3",
      "display_name": "Python 3"
    }
  },
  "cells": [
    {
      "cell_type": "markdown",
      "metadata": {
        "id": "view-in-github",
        "colab_type": "text"
      },
      "source": [
        "<a href=\"https://colab.research.google.com/github/Bhagya-laxmi/Noc-based-CNN/blob/master/LeNet_arch/LeNet_Final.ipynb\" target=\"_parent\"><img src=\"https://colab.research.google.com/assets/colab-badge.svg\" alt=\"Open In Colab\"/></a>"
      ]
    },
    {
      "cell_type": "markdown",
      "metadata": {
        "id": "9N_Tz17-iqsh"
      },
      "source": [
        "The flow of the notebook is as follows:\n",
        "1. Take input from txt file and make prediction using the pre-trained model\n",
        "2. Display the input image read from file\n",
        "3. Save the output values of each layer\n",
        "4. Display image of each output layer "
      ]
    },
    {
      "cell_type": "code",
      "metadata": {
        "id": "ECSYHMZHYMt4"
      },
      "source": [
        "#Import model\n",
        "from keras.models import load_model\n",
        "new_model = load_model('myModel.h5')\n",
        "new_model.summary()"
      ],
      "execution_count": null,
      "outputs": []
    },
    {
      "cell_type": "code",
      "metadata": {
        "id": "cmAK0j71jpqT"
      },
      "source": [
        "#Display images\n",
        "def display_image(position):\n",
        "   # print(train['features'][position])\n",
        "    image = train['features'][position].squeeze()\n",
        "    plt.title('Example %d. Label: %d' % (position, train['labels'][position]))\n",
        "    plt.imshow(image, cmap=plt.cm.gray_r)"
      ],
      "execution_count": 2,
      "outputs": []
    },
    {
      "cell_type": "code",
      "metadata": {
        "id": "QhgYVmULhCF7"
      },
      "source": [
        "def display_fromfile(data_file):\n",
        "   # print(train['features'][position])\n",
        "    image = data_file.squeeze()\n",
        "    #plt.title('Example %d. Label: %d' % (position, train['labels'][position]))\n",
        "    plt.imshow(image, cmap=plt.cm.gray_r)"
      ],
      "execution_count": 11,
      "outputs": []
    },
    {
      "cell_type": "code",
      "metadata": {
        "colab": {
          "base_uri": "https://localhost:8080/",
          "height": 266
        },
        "id": "tn53r2dik9MR",
        "outputId": "85ef3e06-a423-4350-d7bf-e59f1aeb4595"
      },
      "source": [
        "display_fromfile(array_from_file)"
      ],
      "execution_count": 12,
      "outputs": [
        {
          "output_type": "display_data",
          "data": {
            "image/png": "[encoded data removed]",
            "text/plain": [
              "<Figure size 432x288 with 1 Axes>"
            ]
          },
          "metadata": {
            "tags": [],
            "needs_background": "light"
          }
        }
      ]
    },
    {
      "cell_type": "code",
      "metadata": {
        "id": "hXtof4bbhHrH"
      },
      "source": [
        "def display_fromarray(data_file):\n",
        "   # print(train['features'][position])\n",
        "    image = data_file\n",
        "    #plt.title('Example %d. Label: %d' % (position, train['labels'][position]))\n",
        "    plt.imshow(image, cmap=plt.cm.gray_r)"
      ],
      "execution_count": 13,
      "outputs": []
    },
    {
      "cell_type": "code",
      "metadata": {
        "colab": {
          "base_uri": "https://localhost:8080/",
          "height": 401
        },
        "id": "VWxa5h35hAM1",
        "outputId": "369ed806-f556-4c30-ca5b-0bf7d34f69c0"
      },
      "source": [
        "#Reading Input text file, prediction and extraction of data from each layer\n",
        "import matplotlib.pyplot as plt\n",
        "import numpy as np\n",
        "from tensorflow import keras\n",
        "from tensorflow.keras import layers\n",
        "\n",
        "#Read input data file\n",
        "array_from_file = np.loadtxt(\"Input_Nine.txt\", dtype=np.uint8).reshape(1,32,32,1)\n",
        "display_fromfile(array_from_file)\n",
        "saveInput = array_from_file[0,:,:,0]\n",
        "\n",
        "#Make predictions\n",
        "predictions = new_model.predict(array_from_file)\n",
        "classes = np.argmax(predictions, axis = 1)\n",
        "#print(classes)\n",
        "\n",
        "#Save the input data in matrix format\n",
        "file_name = \"Input_\"+ str(classes[0])+\".txt\";\n",
        "#print(file_name)\n",
        "with open(file_name, \"w\") as f:\n",
        "      np.savetxt(f, saveInput)\n",
        "\n",
        "\n",
        "\n",
        "\n",
        "for i in range(0,8):\n",
        "  layer_output =  new_model.layers[i].output #layers: 0 to 7  \n",
        "  extractor = keras.Model(inputs=new_model.inputs,outputs=layer_output)\n",
        "  features = extractor(array_from_file)\n",
        "  if i == 0 or i == 2:\n",
        "    (l,x,y,z)= features.shape\n",
        "    print(features.shape+i)\n",
        "    for j in range(z):\n",
        "      checking = features[0,:,:,j]\n",
        "      fileName = \"Conv\"+str(i)+\"_\"+ str(j)+\".txt\"\n",
        "      with open(fileName, \"w\") as f:\n",
        "        numpy.savetxt(f, checking)\n",
        "  elif i == 1 or i == 3:\n",
        "    print(features.shape+i)\n",
        "    (a,b,c,d)= features.shape\n",
        "    for k in range(d):\n",
        "      checking = features[0,:,:,k]\n",
        "      fileName = \"Pool\"+str(i)+\"_\"+ str(k)+\".txt\"\n",
        "      with open(fileName, \"w\") as f:\n",
        "       numpy.savetxt(f, checking)\n",
        "  else: \n",
        "    print(features.shape+i)\n",
        "    (x,y) = features.shape\n",
        "    checking = features[0,:]\n",
        "    fileName = \"FC\"+str(i)+\"_\"+ str(y)+\".txt\"\n",
        "    with open(fileName, \"w\") as f:\n",
        "     numpy.savetxt(f, checking)\n",
        "  \n",
        "  \n",
        "    \n",
        "\n",
        "#print(features.shape)\n",
        "\n",
        "#checking = features[0,:]\n",
        "#print(checking.shape)"
      ],
      "execution_count": 97,
      "outputs": [
        {
          "output_type": "stream",
          "text": [
            "(1, 28, 28, 6, 0)\n",
            "(1, 14, 14, 6, 1)\n",
            "(1, 10, 10, 16, 2)\n",
            "(1, 5, 5, 16, 3)\n",
            "(1, 400, 4)\n",
            "(1, 120, 5)\n",
            "(1, 84, 6)\n",
            "(1, 10, 7)\n"
          ],
          "name": "stdout"
        },
        {
          "output_type": "display_data",
          "data": {
            "image/png": "[encoded data removed]",
            "text/plain": [
              "<Figure size 432x288 with 1 Axes>"
            ]
          },
          "metadata": {
            "tags": [],
            "needs_background": "light"
          }
        }
      ]
    },
    {
      "cell_type": "code",
      "metadata": {
        "id": "pIZzvk-FSbLm"
      },
      "source": [
        "from google.colab import files"
      ],
      "execution_count": 67,
      "outputs": []
    },
    {
      "cell_type": "code",
      "metadata": {
        "id": "0OG5lf73SkfA"
      },
      "source": [
        "!ls -l"
      ],
      "execution_count": null,
      "outputs": []
    },
    {
      "cell_type": "code",
      "metadata": {
        "colab": {
          "base_uri": "https://localhost:8080/",
          "height": 857
        },
        "id": "MkefEFbOTlKF",
        "outputId": "925a1b3e-0bcf-40a7-fe47-ccd313f3a353"
      },
      "source": [
        "!zip Results.zip *.txt\n",
        "files.download('Results.zip')"
      ],
      "execution_count": 98,
      "outputs": [
        {
          "output_type": "stream",
          "text": [
            "  adding: Conv0_0.txt (deflated 91%)\n",
            "  adding: Conv0_1.txt (deflated 88%)\n",
            "  adding: Conv0_2.txt (deflated 89%)\n",
            "  adding: Conv0_3.txt (deflated 93%)\n",
            "  adding: Conv0_4.txt (deflated 96%)\n",
            "  adding: Conv0_5.txt (deflated 91%)\n",
            "  adding: Conv2_0.txt (deflated 84%)\n",
            "  adding: Conv2_10.txt (deflated 89%)\n",
            "  adding: Conv2_11.txt (deflated 79%)\n",
            "  adding: Conv2_12.txt (deflated 80%)\n",
            "  adding: Conv2_13.txt (deflated 81%)\n",
            "  adding: Conv2_14.txt (deflated 85%)\n",
            "  adding: Conv2_15.txt (deflated 91%)\n",
            "  adding: Conv2_1.txt (deflated 78%)\n",
            "  adding: Conv2_2.txt (deflated 86%)\n",
            "  adding: Conv2_3.txt (deflated 79%)\n",
            "  adding: Conv2_4.txt (deflated 86%)\n",
            "  adding: Conv2_5.txt (deflated 92%)\n",
            "  adding: Conv2_6.txt (deflated 83%)\n",
            "  adding: Conv2_7.txt (deflated 88%)\n",
            "  adding: Conv2_8.txt (deflated 78%)\n",
            "  adding: Conv2_9.txt (deflated 88%)\n",
            "  adding: FC4_400.txt (deflated 73%)\n",
            "  adding: FC5_120.txt (deflated 81%)\n",
            "  adding: FC6_84.txt (deflated 79%)\n",
            "  adding: FC7_10.txt (deflated 44%)\n",
            "  adding: Input_9.txt (deflated 98%)\n",
            "  adding: Input_Nine.txt (deflated 98%)\n",
            "  adding: Pool1_0.txt (deflated 84%)\n",
            "  adding: Pool1_1.txt (deflated 80%)\n",
            "  adding: Pool1_2.txt (deflated 83%)\n",
            "  adding: Pool1_3.txt (deflated 87%)\n",
            "  adding: Pool1_4.txt (deflated 92%)\n",
            "  adding: Pool1_5.txt (deflated 85%)\n",
            "  adding: Pool3_0.txt (deflated 68%)\n",
            "  adding: Pool3_10.txt (deflated 75%)\n",
            "  adding: Pool3_11.txt (deflated 65%)\n",
            "  adding: Pool3_12.txt (deflated 61%)\n",
            "  adding: Pool3_13.txt (deflated 63%)\n",
            "  adding: Pool3_14.txt (deflated 68%)\n",
            "  adding: Pool3_15.txt (deflated 73%)\n",
            "  adding: Pool3_1.txt (deflated 61%)\n",
            "  adding: Pool3_2.txt (deflated 64%)\n",
            "  adding: Pool3_3.txt (deflated 60%)\n",
            "  adding: Pool3_4.txt (deflated 69%)\n",
            "  adding: Pool3_5.txt (deflated 81%)\n",
            "  adding: Pool3_6.txt (deflated 59%)\n",
            "  adding: Pool3_7.txt (deflated 73%)\n",
            "  adding: Pool3_8.txt (deflated 64%)\n",
            "  adding: Pool3_9.txt (deflated 73%)\n"
          ],
          "name": "stdout"
        },
        {
          "output_type": "display_data",
          "data": {
            "application/javascript": [
              "\n",
              "    async function download(id, filename, size) {\n",
              "      if (!google.colab.kernel.accessAllowed) {\n",
              "        return;\n",
              "      }\n",
              "      const div = document.createElement('div');\n",
              "      const label = document.createElement('label');\n",
              "      label.textContent = `Downloading \"${filename}\": `;\n",
              "      div.appendChild(label);\n",
              "      const progress = document.createElement('progress');\n",
              "      progress.max = size;\n",
              "      div.appendChild(progress);\n",
              "      document.body.appendChild(div);\n",
              "\n",
              "      const buffers = [];\n",
              "      let downloaded = 0;\n",
              "\n",
              "      const channel = await google.colab.kernel.comms.open(id);\n",
              "      // Send a message to notify the kernel that we're ready.\n",
              "      channel.send({})\n",
              "\n",
              "      for await (const message of channel.messages) {\n",
              "        // Send a message to notify the kernel that we're ready.\n",
              "        channel.send({})\n",
              "        if (message.buffers) {\n",
              "          for (const buffer of message.buffers) {\n",
              "            buffers.push(buffer);\n",
              "            downloaded += buffer.byteLength;\n",
              "            progress.value = downloaded;\n",
              "          }\n",
              "        }\n",
              "      }\n",
              "      const blob = new Blob(buffers, {type: 'application/binary'});\n",
              "      const a = document.createElement('a');\n",
              "      a.href = window.URL.createObjectURL(blob);\n",
              "      a.download = filename;\n",
              "      div.appendChild(a);\n",
              "      a.click();\n",
              "      div.remove();\n",
              "    }\n",
              "  "
            ],
            "text/plain": [
              "<IPython.core.display.Javascript object>"
            ]
          },
          "metadata": {
            "tags": []
          }
        },
        {
          "output_type": "display_data",
          "data": {
            "application/javascript": [
              "download(\"download_809065c2-5d8e-4e8e-9bfb-835f4f7c99a3\", \"Results.zip\", 36593)"
            ],
            "text/plain": [
              "<IPython.core.display.Javascript object>"
            ]
          },
          "metadata": {
            "tags": []
          }
        }
      ]
    }
  ]
}