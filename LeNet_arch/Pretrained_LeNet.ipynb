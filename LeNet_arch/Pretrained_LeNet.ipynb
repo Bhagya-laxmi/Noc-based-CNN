{
  "nbformat": 4,
  "nbformat_minor": 0,
  "metadata": {
    "colab": {
      "name": "Pretrained_LeNet.ipynb",
      "provenance": [],
      "collapsed_sections": [],
      "authorship_tag": "ABX9TyON7vK0UY9Lep2zsNtgNK7E",
      "include_colab_link": true
    },
    "kernelspec": {
      "name": "python3",
      "display_name": "Python 3"
    }
  },
  "cells": [
    {
      "cell_type": "markdown",
      "metadata": {
        "id": "view-in-github",
        "colab_type": "text"
      },
      "source": [
        "<a href=\"https://colab.research.google.com/github/Bhagya-laxmi/Noc-based-CNN/blob/master/LeNet_arch/Pretrained_LeNet.ipynb\" target=\"_parent\"><img src=\"https://colab.research.google.com/assets/colab-badge.svg\" alt=\"Open In Colab\"/></a>"
      ]
    },
    {
      "cell_type": "code",
      "metadata": {
        "id": "nsueLMiEnQHh"
      },
      "source": [
        "#1. Download MNIST dataset\n",
        "\n",
        "#Four files are available on this site, http://yann.lecun.com/exdb/mnist/:\n",
        "\n",
        "    #train-images-idx3-ubyte.gz: training set images (9912422 bytes)\n",
        "    #train-labels-idx1-ubyte.gz: training set labels (28881 bytes)\n",
        "    #t10k-images-idx3-ubyte.gz: test set images (1648877 bytes)\n",
        "    #t10k-labels-idx1-ubyte.gz: test set labels (4542 bytes)\n",
        "\n",
        "from requests import get\n",
        "\n",
        "def download_file(url, file_name):\n",
        "    with open(file_name, \"wb\") as file:\n",
        "        response = get(url)\n",
        "        file.write(response.content)"
      ],
      "execution_count": null,
      "outputs": []
    },
    {
      "cell_type": "code",
      "metadata": {
        "id": "GbwYA708nSTF"
      },
      "source": [
        "download_file('http://yann.lecun.com/exdb/mnist/train-images-idx3-ubyte.gz', 'train-images-idx3-ubyte.gz')\n",
        "download_file('http://yann.lecun.com/exdb/mnist/train-labels-idx1-ubyte.gz', 'train-labels-idx1-ubyte.gz')\n",
        "download_file('http://yann.lecun.com/exdb/mnist/t10k-images-idx3-ubyte.gz', 't10k-images-idx3-ubyte.gz')\n",
        "download_file('http://yann.lecun.com/exdb/mnist/t10k-labels-idx1-ubyte.gz', 't10k-labels-idx1-ubyte.gz')"
      ],
      "execution_count": null,
      "outputs": []
    },
    {
      "cell_type": "code",
      "metadata": {
        "id": "EwxFTlYHnUZ7",
        "colab": {
          "base_uri": "https://localhost:8080/"
        },
        "outputId": "82b33906-bdbf-4408-8600-ecbd43ce9980"
      },
      "source": [
        "!pip install seaborn==0.9.0"
      ],
      "execution_count": null,
      "outputs": [
        {
          "output_type": "stream",
          "text": [
            "Collecting seaborn==0.9.0\n",
            "\u001b[?25l  Downloading https://files.pythonhosted.org/packages/a8/76/220ba4420459d9c4c9c9587c6ce607bf56c25b3d3d2de62056efe482dadc/seaborn-0.9.0-py3-none-any.whl (208kB)\n",
            "\r\u001b[K     |█▋                              | 10kB 16.3MB/s eta 0:00:01\r\u001b[K     |███▏                            | 20kB 21.6MB/s eta 0:00:01\r\u001b[K     |████▊                           | 30kB 13.2MB/s eta 0:00:01\r\u001b[K     |██████▎                         | 40kB 10.0MB/s eta 0:00:01\r\u001b[K     |███████▉                        | 51kB 8.9MB/s eta 0:00:01\r\u001b[K     |█████████▌                      | 61kB 7.6MB/s eta 0:00:01\r\u001b[K     |███████████                     | 71kB 8.6MB/s eta 0:00:01\r\u001b[K     |████████████▋                   | 81kB 9.5MB/s eta 0:00:01\r\u001b[K     |██████████████▏                 | 92kB 8.4MB/s eta 0:00:01\r\u001b[K     |███████████████▊                | 102kB 8.2MB/s eta 0:00:01\r\u001b[K     |█████████████████▎              | 112kB 8.2MB/s eta 0:00:01\r\u001b[K     |███████████████████             | 122kB 8.2MB/s eta 0:00:01\r\u001b[K     |████████████████████▌           | 133kB 8.2MB/s eta 0:00:01\r\u001b[K     |██████████████████████          | 143kB 8.2MB/s eta 0:00:01\r\u001b[K     |███████████████████████▋        | 153kB 8.2MB/s eta 0:00:01\r\u001b[K     |█████████████████████████▏      | 163kB 8.2MB/s eta 0:00:01\r\u001b[K     |██████████████████████████▊     | 174kB 8.2MB/s eta 0:00:01\r\u001b[K     |████████████████████████████▍   | 184kB 8.2MB/s eta 0:00:01\r\u001b[K     |██████████████████████████████  | 194kB 8.2MB/s eta 0:00:01\r\u001b[K     |███████████████████████████████▌| 204kB 8.2MB/s eta 0:00:01\r\u001b[K     |████████████████████████████████| 215kB 8.2MB/s \n",
            "\u001b[?25hRequirement already satisfied: pandas>=0.15.2 in /usr/local/lib/python3.6/dist-packages (from seaborn==0.9.0) (1.1.4)\n",
            "Requirement already satisfied: numpy>=1.9.3 in /usr/local/lib/python3.6/dist-packages (from seaborn==0.9.0) (1.18.5)\n",
            "Requirement already satisfied: scipy>=0.14.0 in /usr/local/lib/python3.6/dist-packages (from seaborn==0.9.0) (1.4.1)\n",
            "Requirement already satisfied: matplotlib>=1.4.3 in /usr/local/lib/python3.6/dist-packages (from seaborn==0.9.0) (3.2.2)\n",
            "Requirement already satisfied: pytz>=2017.2 in /usr/local/lib/python3.6/dist-packages (from pandas>=0.15.2->seaborn==0.9.0) (2018.9)\n",
            "Requirement already satisfied: python-dateutil>=2.7.3 in /usr/local/lib/python3.6/dist-packages (from pandas>=0.15.2->seaborn==0.9.0) (2.8.1)\n",
            "Requirement already satisfied: pyparsing!=2.0.4,!=2.1.2,!=2.1.6,>=2.0.1 in /usr/local/lib/python3.6/dist-packages (from matplotlib>=1.4.3->seaborn==0.9.0) (2.4.7)\n",
            "Requirement already satisfied: kiwisolver>=1.0.1 in /usr/local/lib/python3.6/dist-packages (from matplotlib>=1.4.3->seaborn==0.9.0) (1.3.1)\n",
            "Requirement already satisfied: cycler>=0.10 in /usr/local/lib/python3.6/dist-packages (from matplotlib>=1.4.3->seaborn==0.9.0) (0.10.0)\n",
            "Requirement already satisfied: six>=1.5 in /usr/local/lib/python3.6/dist-packages (from python-dateutil>=2.7.3->pandas>=0.15.2->seaborn==0.9.0) (1.15.0)\n",
            "Installing collected packages: seaborn\n",
            "  Found existing installation: seaborn 0.11.0\n",
            "    Uninstalling seaborn-0.11.0:\n",
            "      Successfully uninstalled seaborn-0.11.0\n",
            "Successfully installed seaborn-0.9.0\n"
          ],
          "name": "stdout"
        }
      ]
    },
    {
      "cell_type": "code",
      "metadata": {
        "id": "O4-a_8GbnzKV",
        "colab": {
          "base_uri": "https://localhost:8080/"
        },
        "outputId": "34d95b0f-3cc6-4c1d-c629-4326169bdf43"
      },
      "source": [
        "import gzip\n",
        "import numpy as np\n",
        "import pandas as pd\n",
        "from time import time\n",
        "\n",
        "from sklearn.model_selection import train_test_split\n",
        "import tensorflow as tf\n",
        "import keras\n",
        "import keras.layers as layers\n",
        "from keras.models import Sequential\n",
        "from keras.preprocessing.image import ImageDataGenerator\n",
        "from keras.utils.np_utils import to_categorical\n",
        "from keras.callbacks import TensorBoard\n",
        "\n",
        "%matplotlib inline\n",
        "import matplotlib.pyplot as plt\n",
        "import seaborn as sns\n",
        "sns.set()\n",
        "\n",
        "import warnings\n",
        "warnings.simplefilter(action='ignore', category=FutureWarning)"
      ],
      "execution_count": null,
      "outputs": [
        {
          "output_type": "stream",
          "text": [
            "/usr/local/lib/python3.6/dist-packages/statsmodels/tools/_testing.py:19: FutureWarning: pandas.util.testing is deprecated. Use the functions in the public API at pandas.testing instead.\n",
            "  import pandas.util.testing as tm\n"
          ],
          "name": "stderr"
        }
      ]
    },
    {
      "cell_type": "code",
      "metadata": {
        "id": "mXPzL7_VnYxZ"
      },
      "source": [
        "def read_mnist(images_path: str, labels_path: str):\n",
        "    with gzip.open(labels_path, 'rb') as labelsFile:\n",
        "        labels = np.frombuffer(labelsFile.read(), dtype=np.uint8, offset=8)\n",
        "\n",
        "    with gzip.open(images_path,'rb') as imagesFile:\n",
        "        length = len(labels)\n",
        "        # Load flat 28x28 px images (784 px), and convert them to 28x28 px\n",
        "        features = np.frombuffer(imagesFile.read(), dtype=np.uint8, offset=16) \\\n",
        "                        .reshape(length, 784) \\\n",
        "                        .reshape(length, 28, 28, 1)\n",
        "        \n",
        "    return features, labels"
      ],
      "execution_count": null,
      "outputs": []
    },
    {
      "cell_type": "code",
      "metadata": {
        "id": "JUliZvAGnbDI"
      },
      "source": [
        "train = {}\n",
        "test = {}\n",
        "\n",
        "train['features'], train['labels'] = read_mnist('train-images-idx3-ubyte.gz', 'train-labels-idx1-ubyte.gz')\n",
        "test['features'], test['labels'] = read_mnist('t10k-images-idx3-ubyte.gz', 't10k-labels-idx1-ubyte.gz')"
      ],
      "execution_count": null,
      "outputs": []
    },
    {
      "cell_type": "code",
      "metadata": {
        "id": "NOEEgboWnu7G",
        "colab": {
          "base_uri": "https://localhost:8080/"
        },
        "outputId": "48cae7b0-bedb-40a4-8240-a22473c267d2"
      },
      "source": [
        "#Exploring the Data\n",
        "print('# of training images:', train['features'].shape[0])\n",
        "print('# of test images:', test['features'].shape[0])\n",
        "print(train['features'].shape[3]) #60000 examples of images of size 28 x28x 1\n",
        "print(train['features'][0].shape)\n",
        "print(train['features'].shape) #(60000, 28, 28, 1)\n",
        "train['labels'][0]\n",
        "print(train['features'][0][0][0])"
      ],
      "execution_count": null,
      "outputs": [
        {
          "output_type": "stream",
          "text": [
            "# of training images: 60000\n",
            "# of test images: 10000\n",
            "1\n",
            "(28, 28, 1)\n",
            "(60000, 28, 28, 1)\n",
            "[0]\n"
          ],
          "name": "stdout"
        }
      ]
    },
    {
      "cell_type": "code",
      "metadata": {
        "id": "cRu_dI7BneDo"
      },
      "source": [
        "#Display images\n",
        "def display_image(position):\n",
        "   # print(train['features'][position])\n",
        "    image = train['features'][position].squeeze()\n",
        "    plt.title('Example %d. Label: %d' % (position, train['labels'][position]))\n",
        "    plt.imshow(image, cmap=plt.cm.gray_r)"
      ],
      "execution_count": null,
      "outputs": []
    },
    {
      "cell_type": "code",
      "metadata": {
        "id": "D9Fc9FT_o9qy"
      },
      "source": [
        "validation = {}\n",
        "train['features'], validation['features'], train['labels'], validation['labels'] = train_test_split(train['features'], train['labels'], test_size=0.2, random_state=0)"
      ],
      "execution_count": null,
      "outputs": []
    },
    {
      "cell_type": "code",
      "metadata": {
        "id": "SQlc0p93pB7Z",
        "colab": {
          "base_uri": "https://localhost:8080/"
        },
        "outputId": "84625369-5451-45da-c3d8-ab7c151870a0"
      },
      "source": [
        "#Preparing Input data for Lenet\n",
        "\n",
        "# Pad images with 0s\n",
        "\n",
        "train['features']      = np.pad(train['features'], ((0,0),(2,2),(2,2),(0,0)), 'constant')\n",
        "validation['features'] = np.pad(validation['features'], ((0,0),(2,2),(2,2),(0,0)), 'constant')\n",
        "test['features']       = np.pad(test['features'], ((0,0),(2,2),(2,2),(0,0)), 'constant')\n",
        "    \n",
        "print(\"Updated Image Shape: {}\".format(train['features'][0].shape))"
      ],
      "execution_count": null,
      "outputs": [
        {
          "output_type": "stream",
          "text": [
            "Updated Image Shape: (32, 32, 1)\n"
          ],
          "name": "stdout"
        }
      ]
    },
    {
      "cell_type": "code",
      "metadata": {
        "id": "OFWHxGefl9MU",
        "colab": {
          "base_uri": "https://localhost:8080/"
        },
        "outputId": "0bd53366-cd7f-4788-d0ac-9e5051d5476c"
      },
      "source": [
        "from keras.models import load_model\n",
        "new_model = load_model('myModel.h5')\n",
        "new_model.summary()"
      ],
      "execution_count": null,
      "outputs": [
        {
          "output_type": "stream",
          "text": [
            "Model: \"sequential\"\n",
            "_________________________________________________________________\n",
            "Layer (type)                 Output Shape              Param #   \n",
            "=================================================================\n",
            "conv2d (Conv2D)              (None, 28, 28, 6)         156       \n",
            "_________________________________________________________________\n",
            "average_pooling2d (AveragePo (None, 14, 14, 6)         0         \n",
            "_________________________________________________________________\n",
            "conv2d_1 (Conv2D)            (None, 10, 10, 16)        2416      \n",
            "_________________________________________________________________\n",
            "average_pooling2d_1 (Average (None, 5, 5, 16)          0         \n",
            "_________________________________________________________________\n",
            "flatten (Flatten)            (None, 400)               0         \n",
            "_________________________________________________________________\n",
            "dense (Dense)                (None, 120)               48120     \n",
            "_________________________________________________________________\n",
            "dense_1 (Dense)              (None, 84)                10164     \n",
            "_________________________________________________________________\n",
            "dense_2 (Dense)              (None, 10)                850       \n",
            "=================================================================\n",
            "Total params: 61,706\n",
            "Trainable params: 61,706\n",
            "Non-trainable params: 0\n",
            "_________________________________________________________________\n"
          ],
          "name": "stdout"
        }
      ]
    },
    {
      "cell_type": "code",
      "metadata": {
        "id": "zKK70JDpm8UH"
      },
      "source": [
        "new_model.get_weights()"
      ],
      "execution_count": null,
      "outputs": []
    },
    {
      "cell_type": "code",
      "metadata": {
        "id": "6gRerlaAnKmE",
        "colab": {
          "base_uri": "https://localhost:8080/",
          "height": 318
        },
        "outputId": "7bd3e73f-e64b-4f67-eb02-e7fb19dd983b"
      },
      "source": [
        "import matplotlib.pyplot as plt\n",
        "import numpy as np\n",
        "\n",
        "display_image(5)\n",
        "samples_to_predict = np.array(train['features'][5:6])\n",
        "print(samples_to_predict.shape)\n",
        "\n",
        "predictions = new_model.predict(train['features'][5:6])\n",
        "\n",
        "#print(predictions)\n",
        "\n",
        "#print(train['labels'][1])\n",
        "\n",
        "classes = np.argmax(predictions, axis = 1)\n",
        "#numpy.savetxt('predict.txt', classes, fmt=\"%d\")\n",
        "print(classes)"
      ],
      "execution_count": null,
      "outputs": [
        {
          "output_type": "stream",
          "text": [
            "(1, 32, 32, 1)\n",
            "[7]\n"
          ],
          "name": "stdout"
        },
        {
          "output_type": "display_data",
          "data": {
            "image/png": "[encoded data removed]",
            "text/plain": [
              "<Figure size 432x288 with 1 Axes>"
            ]
          },
          "metadata": {
            "tags": []
          }
        }
      ]
    },
    {
      "cell_type": "code",
      "metadata": {
        "colab": {
          "base_uri": "https://localhost:8080/"
        },
        "id": "KRc6cBkVGKWU",
        "outputId": "0c298ef0-7caa-4bec-f0c3-328a9089f77f"
      },
      "source": [
        "#Reading Input text file\n",
        "\n",
        "array_from_file = np.loadtxt(\"Input_trial.txt\", dtype=np.uint8).reshape(1,32,32,1)\n",
        "print(array_from_file.shape)\n",
        "saveInput = array_from_file[0,:,:,0]\n",
        "with open(\"Input.txt\", \"w\") as f:\n",
        "      numpy.savetxt(f, saveInput)"
      ],
      "execution_count": null,
      "outputs": [
        {
          "output_type": "stream",
          "text": [
            "(1, 32, 32, 1)\n"
          ],
          "name": "stdout"
        }
      ]
    },
    {
      "cell_type": "code",
      "metadata": {
        "id": "qb6ezoYGG5gJ"
      },
      "source": [
        "def display_fromfile(data_file):\n",
        "   # print(train['features'][position])\n",
        "    image = data_file.squeeze()\n",
        "    #plt.title('Example %d. Label: %d' % (position, train['labels'][position]))\n",
        "    plt.imshow(image, cmap=plt.cm.gray_r)"
      ],
      "execution_count": null,
      "outputs": []
    },
    {
      "cell_type": "code",
      "metadata": {
        "colab": {
          "base_uri": "https://localhost:8080/",
          "height": 268
        },
        "id": "LuG6TrM1HCSb",
        "outputId": "c62fa74d-fd9a-4f9b-810a-badbe996d5af"
      },
      "source": [
        "display_fromfile(array_from_file)"
      ],
      "execution_count": null,
      "outputs": [
        {
          "output_type": "display_data",
          "data": {
            "image/png": "[encoded data removed]",
            "text/plain": [
              "<Figure size 432x288 with 1 Axes>"
            ]
          },
          "metadata": {
            "tags": []
          }
        }
      ]
    },
    {
      "cell_type": "code",
      "metadata": {
        "id": "CSVu3L-7LY6-"
      },
      "source": [
        "def display_fromarray(data_file):\n",
        "   # print(train['features'][position])\n",
        "    image = data_file\n",
        "    #plt.title('Example %d. Label: %d' % (position, train['labels'][position]))\n",
        "    plt.imshow(image, cmap=plt.cm.gray_r)"
      ],
      "execution_count": null,
      "outputs": []
    },
    {
      "cell_type": "code",
      "metadata": {
        "id": "NhIaYJ65qWoC",
        "colab": {
          "base_uri": "https://localhost:8080/"
        },
        "outputId": "fca653fe-5895-411a-d3e0-c5070ca0d72f"
      },
      "source": [
        "#save output of each layer\n",
        "from tensorflow import keras\n",
        "from tensorflow.keras import layers\n",
        "import numpy\n",
        "\n",
        "#layer = model.get_layer('dense_1')\n",
        "#print(layer)\n",
        "extractor = keras.Model(inputs=new_model.inputs,\n",
        "                        outputs=new_model.layers[7].output)#outputs=[layer.output for layer in new_model.layers])\n",
        "#features = extractor(train['features'][5:6])\n",
        "features = extractor(array_from_file)\n",
        "print(features.shape)\n",
        "#checking = features[0,:,:,15]\n",
        "#print(checking.shape)\n",
        "#display_fromarray(checking)\n",
        "#print(checking)\n",
        "\n",
        "#with open(\"Pool2_15.txt\", \"w\") as f:\n",
        "#      numpy.savetxt(f, checking)\n",
        "\n",
        "checking = features[0,:]\n",
        "print(checking.shape)\n",
        "#display_fromarray(checking)\n",
        "#print(checking)\n",
        "\n",
        "with open(\"Output.txt\", \"w\") as f:\n",
        "      numpy.savetxt(f, checking)\n",
        "\n",
        "#display_fromfile(checking)\n",
        "#(l,x,y,z) = features.shape;\n",
        "#for i in range (0,z):\n",
        " # for j in range (0,x):\n",
        "    #print(features[0,,:,i])\n",
        "\n",
        "#print(features[0,:])\n",
        "#numpy.savetxt('Check2.txt', features, fmt=\"%s\")"
      ],
      "execution_count": null,
      "outputs": [
        {
          "output_type": "stream",
          "text": [
            "(1, 10)\n",
            "(10,)\n"
          ],
          "name": "stdout"
        }
      ]
    },
    {
      "cell_type": "code",
      "metadata": {
        "colab": {
          "base_uri": "https://localhost:8080/"
        },
        "id": "AThjtA_J-79V",
        "outputId": "638576a2-6ff9-4fa8-de43-e1d411c349d8"
      },
      "source": [
        "print(train['features'][5:6].shape)"
      ],
      "execution_count": null,
      "outputs": [
        {
          "output_type": "stream",
          "text": [
            "(1, 32, 32, 1)\n"
          ],
          "name": "stdout"
        }
      ]
    },
    {
      "cell_type": "code",
      "metadata": {
        "id": "_jdJ5_5nagd7"
      },
      "source": [
        "pip install hdfviewer"
      ],
      "execution_count": null,
      "outputs": []
    },
    {
      "cell_type": "code",
      "metadata": {
        "id": "Or8ahEakaDn-"
      },
      "source": [
        "import h5py\n",
        "import numpy\n",
        "from hdfviewer.widgets.HDFViewer import HDFViewer\n",
        "\n",
        "hdf5 = h5py.File(\"/content/weights.h5\",\"r\");\n"
      ],
      "execution_count": null,
      "outputs": []
    },
    {
      "cell_type": "code",
      "metadata": {
        "id": "LrRQSJwCbEkk"
      },
      "source": [
        "dense = hdf5['dense']\n",
        "(x,y) = dense['dense']['kernel:0'].shape #(x,y) = (120,84)\n",
        "for i in range(0,y):\n",
        "  a = dense['dense']['kernel:0'][:,i]\n",
        "  with open(\"Dense_120.txt\", \"ab\") as f:\n",
        "    f.write(b\"\\n\")\n",
        "    numpy.savetxt(f, a)"
      ],
      "execution_count": null,
      "outputs": []
    },
    {
      "cell_type": "code",
      "metadata": {
        "colab": {
          "base_uri": "https://localhost:8080/"
        },
        "id": "OeflNkplOmf-",
        "outputId": "e128f888-2cea-4071-b5b0-4f50b3e645af"
      },
      "source": [
        "import numpy as np\n",
        "\n",
        "dense = hdf5['dense']\n",
        "(x,y) = dense['dense']['kernel:0'].shape\n",
        "print( x,y)\n",
        "arr0= [];\n",
        "arr1=[];\n",
        "arr2=[];\n",
        "arr3=[];\n",
        "arr4=[];\n",
        "arr5=[];\n",
        "arr6=[];\n",
        "arr7=[];\n",
        "arr8=[];\n",
        "arr9=[];\n",
        "arr10=[];\n",
        "arr11=[];\n",
        "arr12=[];\n",
        "arr13=[];\n",
        "arr14=[];\n",
        "arr15=[];\n",
        "\n",
        "for i in range(25):\n",
        "      arr0.append(0)\n",
        "      arr1.append(0)\n",
        "      arr2.append(0)\n",
        "      arr3.append(0)\n",
        "      arr4.append(0)\n",
        "      arr5.append(0)\n",
        "      arr6.append(0)\n",
        "      arr7.append(0)\n",
        "      arr8.append(0)\n",
        "      arr9.append(0)\n",
        "      arr10.append(0)\n",
        "      arr11.append(0)\n",
        "      arr12.append(0)\n",
        "      arr13.append(0)\n",
        "      arr14.append(0)\n",
        "      arr15.append(0)\n",
        "\n",
        "for j in range(120):\n",
        "  for i in range(0,25):\n",
        "    arr0[i]= dense['dense']['kernel:0'][i*16,j];\n",
        "    arr1[i]= dense['dense']['kernel:0'][i*16+1,j];\n",
        "    arr2[i]= dense['dense']['kernel:0'][i*16+2,j];\n",
        "    arr3[i]= dense['dense']['kernel:0'][i*16+3,j];\n",
        "    arr4[i]= dense['dense']['kernel:0'][i*16+4,j];\n",
        "    arr5[i]= dense['dense']['kernel:0'][i*16+5,j];\n",
        "    arr6[i]= dense['dense']['kernel:0'][i*16+6,j];\n",
        "    arr7[i]= dense['dense']['kernel:0'][i*16+7,j];\n",
        "    arr8[i]= dense['dense']['kernel:0'][i*16+8,j];\n",
        "    arr9[i]= dense['dense']['kernel:0'][i*16+9,j];\n",
        "    arr10[i]= dense['dense']['kernel:0'][i*16+10,j];\n",
        "    arr11[i]= dense['dense']['kernel:0'][i*16+11,j];\n",
        "    arr12[i]= dense['dense']['kernel:0'][i*16+12,j];\n",
        "    arr13[i]= dense['dense']['kernel:0'][i*16+13,j];\n",
        "    arr14[i]= dense['dense']['kernel:0'][i*16+14,j];\n",
        "    arr15[i]= dense['dense']['kernel:0'][i*16+15,j];\n",
        "  np_arr0 = np.array(arr0)\n",
        "  np_arr1 = np.array(arr1)\n",
        "  np_arr2 = np.array(arr2)\n",
        "  np_arr3 = np.array(arr3)\n",
        "  np_arr4 = np.array(arr4)\n",
        "  np_arr5 = np.array(arr5)\n",
        "  np_arr6 = np.array(arr6)\n",
        "  np_arr7 = np.array(arr7)\n",
        "  np_arr8 = np.array(arr8)\n",
        "  np_arr9 = np.array(arr9)\n",
        "  np_arr10 = np.array(arr10)\n",
        "  np_arr11 = np.array(arr11)\n",
        "  np_arr12 = np.array(arr12)\n",
        "  np_arr13 = np.array(arr13)\n",
        "  np_arr14 = np.array(arr14)\n",
        "  np_arr15 = np.array(arr15)\n",
        "  with open(\"Final.txt\", \"ab\") as f:\n",
        "    numpy.savetxt(f, np_arr0)\n",
        "    numpy.savetxt(f, np_arr1)\n",
        "    numpy.savetxt(f, np_arr2)\n",
        "    numpy.savetxt(f, np_arr3)\n",
        "    numpy.savetxt(f, np_arr4)\n",
        "    numpy.savetxt(f, np_arr5)\n",
        "    numpy.savetxt(f, np_arr6)\n",
        "    numpy.savetxt(f, np_arr7)\n",
        "    numpy.savetxt(f, np_arr8)\n",
        "    numpy.savetxt(f, np_arr9)\n",
        "    numpy.savetxt(f, np_arr10)\n",
        "    numpy.savetxt(f, np_arr11)\n",
        "    numpy.savetxt(f, np_arr12)\n",
        "    numpy.savetxt(f, np_arr13)\n",
        "    numpy.savetxt(f, np_arr14)\n",
        "    numpy.savetxt(f, np_arr15)\n",
        "    f.write(b\"\\n\")\n",
        "\n",
        "\n",
        "\n",
        "\n",
        "\n",
        "\n",
        "\n"
      ],
      "execution_count": null,
      "outputs": [
        {
          "output_type": "stream",
          "text": [
            "400 120\n"
          ],
          "name": "stdout"
        }
      ]
    },
    {
      "cell_type": "code",
      "metadata": {
        "id": "zsT2t827bHUm"
      },
      "source": [
        "dense_1 = hdf5['dense_1']\n",
        "(x,y) = dense_1['dense_1']['kernel:0'].shape #(x,y) = (120,84)\n",
        "for i in range(0,y):\n",
        "  a = dense_1['dense_1']['kernel:0'][:,i]\n",
        "  with open(\"Dense_84.txt\", \"ab\") as f:\n",
        "    f.write(b\"\\n\")\n",
        "    numpy.savetxt(f, a)"
      ],
      "execution_count": null,
      "outputs": []
    },
    {
      "cell_type": "code",
      "metadata": {
        "id": "k1R55tilbYex"
      },
      "source": [
        "dense_2 = hdf5['dense_2']\n",
        "(x,y) = dense_2['dense_2']['kernel:0'].shape #(x,y) = (120,84)\n",
        "for i in range(0,y):\n",
        "  a = dense_2['dense_2']['kernel:0'][:,i]\n",
        "  with open(\"Dense_10.txt\", \"ab\") as f:\n",
        "    f.write(b\"\\n\")\n",
        "    numpy.savetxt(f, a)"
      ],
      "execution_count": null,
      "outputs": []
    },
    {
      "cell_type": "code",
      "metadata": {
        "id": "3mis-QxEbj1w"
      },
      "source": [
        "a = dense['dense']['bias:0']\n",
        "with open(\"Dense_120Bias.txt\", \"ab\") as f:\n",
        "      f.write(b\"\\n\")\n",
        "      numpy.savetxt(f, a)"
      ],
      "execution_count": null,
      "outputs": []
    },
    {
      "cell_type": "code",
      "metadata": {
        "id": "TZizlO4nbqJB"
      },
      "source": [
        "a = dense_1['dense_1']['bias:0']\n",
        "with open(\"Dense_84Bias.txt\", \"ab\") as f:\n",
        "      f.write(b\"\\n\")\n",
        "      numpy.savetxt(f, a)"
      ],
      "execution_count": null,
      "outputs": []
    },
    {
      "cell_type": "code",
      "metadata": {
        "id": "rKyjagoabxX0"
      },
      "source": [
        "a = dense_2['dense_2']['bias:0']\n",
        "with open(\"Dense10Bias.txt\", \"ab\") as f:\n",
        "      f.write(b\"\\n\")\n",
        "      numpy.savetxt(f, a)"
      ],
      "execution_count": null,
      "outputs": []
    }
  ]
}